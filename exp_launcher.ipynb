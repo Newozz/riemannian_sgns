{
 "cells": [
  {
   "cell_type": "markdown",
   "metadata": {},
   "source": [
    "## Imports"
   ]
  },
  {
   "cell_type": "code",
   "execution_count": 1,
   "metadata": {
    "collapsed": false
   },
   "outputs": [],
   "source": [
    "%matplotlib inline\n",
    "import matplotlib.pyplot as plt\n",
    "from IPython import display\n",
    "\n",
    "import numpy as np\n",
    "import pandas as pd\n",
    "\n",
    "import os\n",
    "\n",
    "from word2vec_as_EMF import Word2vecMF\n",
    "from functions import *"
   ]
  },
  {
   "cell_type": "markdown",
   "metadata": {},
   "source": [
    "## Load model"
   ]
  },
  {
   "cell_type": "code",
   "execution_count": 2,
   "metadata": {
    "collapsed": false
   },
   "outputs": [
    {
     "name": "stdout",
     "output_type": "stream",
     "text": [
      "CPU times: user 14.5 s, sys: 4.3 s, total: 18.8 s\n",
      "Wall time: 18.8 s\n"
     ]
    }
   ],
   "source": [
    "%%time\n",
    "model_enwik = Word2vecMF()\n",
    "model_enwik.load_matrices(from_file='enwik-200/matrices.npz')"
   ]
  },
  {
   "cell_type": "markdown",
   "metadata": {},
   "source": [
    "## Save some matrices to disk (to use them as the initialization further)"
   ]
  },
  {
   "cell_type": "code",
   "execution_count": 3,
   "metadata": {
    "collapsed": true
   },
   "outputs": [],
   "source": [
    "# SVD initialization\n",
    "\n",
    "SPPMI = np.maximum(np.log(model_enwik.D) - np.log(model_enwik.B), 0)\n",
    "u, s, vt = svds(SPPMI, k=100)\n",
    "C_svd = u.dot(np.sqrt(np.diag(s))).T\n",
    "W_svd = np.sqrt(np.diag(s)).dot(vt)"
   ]
  },
  {
   "cell_type": "code",
   "execution_count": 4,
   "metadata": {
    "collapsed": true
   },
   "outputs": [],
   "source": [
    "model_enwik.C = C_svd.copy()\n",
    "model_enwik.W = W_svd.copy()\n",
    "\n",
    "model_enwik.save_CW('enwik-200/initializations/SVD_dim100', 0)"
   ]
  },
  {
   "cell_type": "markdown",
   "metadata": {},
   "source": [
    "# Launch the experiment"
   ]
  },
  {
   "cell_type": "code",
   "execution_count": 6,
   "metadata": {
    "collapsed": false
   },
   "outputs": [],
   "source": [
    "datasets_path='datasets'\n",
    "C_svd, W_svd = model_enwik.load_CW('enwik-200/initializations/SVD_dim100', 0)"
   ]
  },
  {
   "cell_type": "code",
   "execution_count": null,
   "metadata": {
    "collapsed": false
   },
   "outputs": [],
   "source": [
    "%%time\n",
    "opt_experiment(model_enwik,\n",
    "               mode='PS', \n",
    "               d=100,\n",
    "               eta = 1e-6,\n",
    "               MAX_ITER=100,\n",
    "               from_iter=0,\n",
    "               start_from='SVD',\n",
    "               init=(True, C_svd, W_svd))"
   ]
  },
  {
   "cell_type": "code",
   "execution_count": null,
   "metadata": {
    "collapsed": true
   },
   "outputs": [],
   "source": [
    "print 5"
   ]
  },
  {
   "cell_type": "markdown",
   "metadata": {},
   "source": [
    "# Indexing word pairs from all datasets"
   ]
  },
  {
   "cell_type": "code",
   "execution_count": 8,
   "metadata": {
    "collapsed": false
   },
   "outputs": [],
   "source": [
    "# Look through all datasets (wordsim353, men, mturk etc) and find\n",
    "# all words which occur in these datasets. Save their indices in\n",
    "# model_enwik.vocab to provide easy access to them in experiments.\n",
    "# USE THIS SCRIPT ONLY IF YOU ADDED SOME NEW DATASETS to datasets/\n",
    "\n",
    "names = []\n",
    "arrs = []\n",
    "for filename in os.listdir('datasets'):\n",
    "    \n",
    "    if filename[-4:]=='.csv':\n",
    "\n",
    "        name = filename[:-4]\n",
    "        for i in xrange(3):\n",
    "            names.append(str(i)+name)\n",
    "        \n",
    "        dataset = pd.read_csv('datasets/'+filename, header=None, delimiter=';').values\n",
    "        ind1 = []\n",
    "        ind2 = []\n",
    "        vec2 = []\n",
    "        model_dict=model_enwik.vocab\n",
    "        for i in xrange(dataset.shape[0]):\n",
    "            word1 = dataset[i, 0].lower()\n",
    "            word2 = dataset[i, 1].lower()\n",
    "            if (word1 in model_dict and word2 in model_dict):\n",
    "                ind1.append(int(model_dict[word1]))\n",
    "                ind2.append(int(model_dict[word2]))\n",
    "                vec2.append(np.float64(dataset[i, 2]))\n",
    "                \n",
    "        ind1 = np.array(ind1)\n",
    "        ind2 = np.array(ind2)\n",
    "        vec2 = np.array(vec2)\n",
    "        \n",
    "        arrs.append(ind1)\n",
    "        arrs.append(ind2)\n",
    "        arrs.append(vec2)\n",
    "        \n",
    "np.savez(open('datasets/indices.npz', 'wb'), **{name:value for name,value in zip(names, arrs)})"
   ]
  }
 ],
 "metadata": {
  "kernelspec": {
   "display_name": "Python 2",
   "language": "python",
   "name": "python2"
  },
  "language_info": {
   "codemirror_mode": {
    "name": "ipython",
    "version": 2
   },
   "file_extension": ".py",
   "mimetype": "text/x-python",
   "name": "python",
   "nbconvert_exporter": "python",
   "pygments_lexer": "ipython2",
   "version": "2.7.11"
  }
 },
 "nbformat": 4,
 "nbformat_minor": 0
}
