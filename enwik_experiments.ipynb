{
 "cells": [
  {
   "cell_type": "markdown",
   "metadata": {},
   "source": [
    "# Imports"
   ]
  },
  {
   "cell_type": "code",
   "execution_count": 1,
   "metadata": {
    "collapsed": true
   },
   "outputs": [],
   "source": [
    "%matplotlib inline\n",
    "import matplotlib.pyplot as plt\n",
    "\n",
    "import numpy as np\n",
    "import pandas as pd\n",
    "import os\n",
    "import pickle\n",
    "\n",
    "from numpy.linalg import svd, qr\n",
    "from scipy.sparse.linalg import svds\n",
    "from scipy.spatial.distance import cosine\n",
    "from scipy.stats import spearmanr\n",
    "\n",
    "from word2vec_as_EMF import word2vec_as_EMF"
   ]
  },
  {
   "cell_type": "markdown",
   "metadata": {},
   "source": [
    "# Functions"
   ]
  },
  {
   "cell_type": "code",
   "execution_count": 2,
   "metadata": {
    "collapsed": false
   },
   "outputs": [],
   "source": [
    "# load data\n",
    "def load_sentences(mode='small'):\n",
    "    if (mode == 'full'):\n",
    "        sentences = pickle.load(open('data/sentences_all.txt', 'rb'))\n",
    "    elif (mode == 'small'):\n",
    "        sentences= pickle.load(open('data/sentences1k.txt', 'rb'))\n",
    "    elif (mode == 'enwik9'):\n",
    "        sentences= pickle.load(open('data/enwik9_sentences.txt', 'rb'))\n",
    "    return sentences\n",
    "\n",
    "def plot_MF(MFs, x=None, xlabel='Iterations', ylabel='MF'):\n",
    "\n",
    "    fig, ax = plt.subplots(figsize=(15, 5))\n",
    "    if not x:\n",
    "        ax.plot(MFs)\n",
    "    else:\n",
    "        ax.plot(x, MFs)\n",
    "    ax.set_xlabel(xlabel, fontsize=14)\n",
    "    ax.set_ylabel(ylabel, fontsize=14)\n",
    "    ax.grid(True)"
   ]
  },
  {
   "cell_type": "markdown",
   "metadata": {},
   "source": [
    "# Model 1000"
   ]
  },
  {
   "cell_type": "code",
   "execution_count": 3,
   "metadata": {
    "collapsed": true
   },
   "outputs": [],
   "source": [
    "model1000 = word2vec_as_EMF()"
   ]
  },
  {
   "cell_type": "code",
   "execution_count": 4,
   "metadata": {
    "collapsed": false
   },
   "outputs": [
    {
     "name": "stdout",
     "output_type": "stream",
     "text": [
      "Model was loaded from disk\n"
     ]
    }
   ],
   "source": [
    "filename = 'enwik-1000_matrices.npz'\n",
    "\n",
    "if not os.path.exists(filename):\n",
    "    # load sentences from file\n",
    "    sentences = load_sentences('enwik9')\n",
    "    \n",
    "    # create dictionary, matrix D, matrix B and save them to file\n",
    "    model1000.data_to_matrices(data=sentences, r=1000, k=5, to_file=filename)\n",
    "    print \"Model was created\"\n",
    "    \n",
    "else:\n",
    "    # load dictionary, matrix D, matrix B from file\n",
    "    model1000.load_matrices(from_file=filename)\n",
    "    print \"Model was loaded from disk\""
   ]
  },
  {
   "cell_type": "code",
   "execution_count": 5,
   "metadata": {
    "collapsed": true
   },
   "outputs": [],
   "source": [
    "SPPMI1000 = np.maximum(np.log(model1000.D) - np.log(model1000.B), 0)\n",
    "u, s, vt = svds(SPPMI1000, k=100)\n",
    "C_svd = u.dot(np.sqrt(np.diag(s))).T\n",
    "W_svd = np.sqrt(np.diag(s)).dot(vt)"
   ]
  },
  {
   "cell_type": "code",
   "execution_count": null,
   "metadata": {
    "collapsed": true
   },
   "outputs": [],
   "source": [
    "# start projector splitting from svd of SPPMI\n",
    "model1000.projector_splitting(eta=5e-6, d=100, MAX_ITER=100, \n",
    "                              init=(True, C_svd, W_svd), \n",
    "                              save=(True, 'enwik-1000_PS100iter_fromSVD_factors_step5e-6'))"
   ]
  },
  {
   "cell_type": "code",
   "execution_count": 8,
   "metadata": {
    "collapsed": false
   },
   "outputs": [
    {
     "name": "stdout",
     "output_type": "stream",
     "text": [
      "5\n"
     ]
    }
   ],
   "source": [
    "print 5"
   ]
  },
  {
   "cell_type": "code",
   "execution_count": null,
   "metadata": {
    "collapsed": false
   },
   "outputs": [],
   "source": [
    "# calculate MF on each iteration\n",
    "model1000.factors_to_MF(from_folder='enwik-1000_PS100iter_fromSVD_factors_step5e-6', \n",
    "                       to_file='enwik-1000_PS100iter_fromSVD_MF_step5e-6.npz', MAX_ITER=100)"
   ]
  },
  {
   "cell_type": "code",
   "execution_count": 17,
   "metadata": {
    "collapsed": false
   },
   "outputs": [],
   "source": [
    "# load MF\n",
    "MFs = model1000.load_MF(from_file='enwik-1000_PS100iter_fromSVD_MF_step5e-6.npz')"
   ]
  },
  {
   "cell_type": "code",
   "execution_count": 18,
   "metadata": {
    "collapsed": false
   },
   "outputs": [
    {
     "data": {
      "image/png": "[encoded data removed]",
      "text/plain": [
       "<matplotlib.figure.Figure at 0x7fe3b87efc50>"
      ]
     },
     "metadata": {},
     "output_type": "display_data"
    }
   ],
   "source": [
    "plot_MF(MFs)"
   ]
  },
  {
   "cell_type": "markdown",
   "metadata": {},
   "source": [
    "## Wordsim353 experiment"
   ]
  },
  {
   "cell_type": "code",
   "execution_count": 28,
   "metadata": {
    "collapsed": true
   },
   "outputs": [],
   "source": [
    "wordsim353 = pd.read_csv(\"data/wordsim353/combined.csv\")\n",
    "word_sim = wordsim353.values\n",
    "model_dict = model1000.dictionary\n",
    "model1000.C = C_svd\n",
    "model1000.W = W_svd"
   ]
  },
  {
   "cell_type": "code",
   "execution_count": 29,
   "metadata": {
    "collapsed": false
   },
   "outputs": [],
   "source": [
    "ind1 = []\n",
    "ind2 = []\n",
    "vec2 = []\n",
    "\n",
    "W = model1000.W.copy()\n",
    "\n",
    "for i in xrange(word_sim.shape[0]):\n",
    "    word1 = word_sim[i][0]\n",
    "    word2 = word_sim[i][1]\n",
    "    if (word1 in model_dict and word2 in model_dict):\n",
    "        ind1.append(int(model1000.dictionary[word1]))\n",
    "        ind2.append(int(model1000.dictionary[word2]))\n",
    "        vec2.append(np.float64(word_sim[i][2]))"
   ]
  },
  {
   "cell_type": "code",
   "execution_count": 36,
   "metadata": {
    "collapsed": false
   },
   "outputs": [],
   "source": [
    "vec1 = []\n",
    "for i in xrange(len(vec2)):\n",
    "    vec1.append(cosine(W[:,ind1[i]], W[:,ind2[i]]))\n",
    "corrs = [spearmanr(vec1, vec2)[0]]"
   ]
  },
  {
   "cell_type": "code",
   "execution_count": 39,
   "metadata": {
    "collapsed": true
   },
   "outputs": [],
   "source": [
    "MAX_ITER = 100\n",
    "from_folder = 'enwik-1000_PS100iter_fromSVD_factors'\n",
    "\n",
    "for it in xrange(MAX_ITER):\n",
    "    vec1 = []\n",
    "    C, W = model1000.load_CW(from_folder, it+1)\n",
    "    for i in xrange(len(vec2)):\n",
    "        vec1.append(cosine(W[:,ind1[i]], W[:,ind2[i]]))\n",
    "    corrs.append(spearmanr(vec1, vec2)[0])"
   ]
  },
  {
   "cell_type": "code",
   "execution_count": 43,
   "metadata": {
    "collapsed": false
   },
   "outputs": [
    {
     "data": {
      "image/png": "[encoded data removed]",
      "text/plain": [
       "<matplotlib.figure.Figure at 0x7fa32ee0a910>"
      ]
     },
     "metadata": {},
     "output_type": "display_data"
    }
   ],
   "source": [
    "ps_corrs = np.array(corrs)\n",
    "x = np.arange(MAX_ITER+1)\n",
    "fig, ax = plt.subplots(figsize=(8, 5))\n",
    "ax.plot(x, -ps_corrs)\n",
    "ax.set_xlabel('number of iterations', fontsize=14)\n",
    "ax.set_ylabel('correlation', fontsize=14)\n",
    "ax.grid()"
   ]
  },
  {
   "cell_type": "markdown",
   "metadata": {},
   "source": [
    "# Model200"
   ]
  },
  {
   "cell_type": "code",
   "execution_count": 11,
   "metadata": {
    "collapsed": true
   },
   "outputs": [],
   "source": [
    "model200 = word2vec_as_EMF()"
   ]
  },
  {
   "cell_type": "code",
   "execution_count": null,
   "metadata": {
    "collapsed": true
   },
   "outputs": [],
   "source": [
    "filename = 'enwik-200_matrices.npz'\n",
    "\n",
    "if not os.path.exists(filename):\n",
    "    # load sentences from file\n",
    "    #sentences = load_sentences('enwik9')\n",
    "    \n",
    "    # create dictionary, matrix D, matrix B and save them to file\n",
    "    model200.data_to_matrices(data=sentences, r=200, k=5, to_file=filename)\n",
    "    print \"Model was created\"\n",
    "    \n",
    "else:\n",
    "    # load dictionary, matrix D, matrix B from file\n",
    "    model200.load_matrices(from_file=filename)\n",
    "    print \"Model was loaded from disk\""
   ]
  },
  {
   "cell_type": "code",
   "execution_count": 44,
   "metadata": {
    "collapsed": false
   },
   "outputs": [
    {
     "data": {
      "text/plain": [
       "24294"
      ]
     },
     "execution_count": 44,
     "metadata": {},
     "output_type": "execute_result"
    }
   ],
   "source": [
    "len(model200.dictionary)"
   ]
  },
  {
   "cell_type": "code",
   "execution_count": null,
   "metadata": {
    "collapsed": true
   },
   "outputs": [],
   "source": []
  },
  {
   "cell_type": "code",
   "execution_count": null,
   "metadata": {
    "collapsed": true
   },
   "outputs": [],
   "source": []
  },
  {
   "cell_type": "code",
   "execution_count": null,
   "metadata": {
    "collapsed": true
   },
   "outputs": [],
   "source": []
  },
  {
   "cell_type": "code",
   "execution_count": null,
   "metadata": {
    "collapsed": true
   },
   "outputs": [],
   "source": []
  },
  {
   "cell_type": "code",
   "execution_count": null,
   "metadata": {
    "collapsed": true
   },
   "outputs": [],
   "source": []
  },
  {
   "cell_type": "code",
   "execution_count": null,
   "metadata": {
    "collapsed": true
   },
   "outputs": [],
   "source": []
  },
  {
   "cell_type": "code",
   "execution_count": null,
   "metadata": {
    "collapsed": true
   },
   "outputs": [],
   "source": []
  },
  {
   "cell_type": "code",
   "execution_count": null,
   "metadata": {
    "collapsed": true
   },
   "outputs": [],
   "source": []
  },
  {
   "cell_type": "code",
   "execution_count": null,
   "metadata": {
    "collapsed": true
   },
   "outputs": [],
   "source": []
  },
  {
   "cell_type": "code",
   "execution_count": null,
   "metadata": {
    "collapsed": true
   },
   "outputs": [],
   "source": []
  },
  {
   "cell_type": "code",
   "execution_count": null,
   "metadata": {
    "collapsed": true
   },
   "outputs": [],
   "source": []
  },
  {
   "cell_type": "code",
   "execution_count": null,
   "metadata": {
    "collapsed": true
   },
   "outputs": [],
   "source": []
  },
  {
   "cell_type": "code",
   "execution_count": null,
   "metadata": {
    "collapsed": true
   },
   "outputs": [],
   "source": []
  },
  {
   "cell_type": "markdown",
   "metadata": {},
   "source": [
    "# Loading data"
   ]
  },
  {
   "cell_type": "code",
   "execution_count": null,
   "metadata": {
    "collapsed": false
   },
   "outputs": [],
   "source": [
    "data = np.loadtxt(\"data/enwik/enwik9.txt\", dtype=str, delimiter='.')"
   ]
  },
  {
   "cell_type": "code",
   "execution_count": null,
   "metadata": {
    "collapsed": true
   },
   "outputs": [],
   "source": [
    "# Import various modules for string cleaning\n",
    "from bs4 import BeautifulSoup\n",
    "import re\n",
    "from nltk.corpus import stopwords\n",
    "\n",
    "def wiki_to_wordlist(sentence, remove_stopwords=False ):\n",
    "    # Function to convert a document to a sequence of words,\n",
    "    # optionally removing stop words.  Returns a list of words.\n",
    "\n",
    "    # 3. Convert words to lower case and split them\n",
    "    words = sentence.split()\n",
    "    #\n",
    "    # 4. Optionally remove stop words (false by default)\n",
    "    if remove_stopwords:\n",
    "        stops = set(stopwords.words(\"english\"))\n",
    "        words = [w for w in words if not w in stops]\n",
    "    #\n",
    "    # 5. Return a list of words\n",
    "    return(words)"
   ]
  },
  {
   "cell_type": "code",
   "execution_count": null,
   "metadata": {
    "collapsed": false
   },
   "outputs": [],
   "source": [
    "sentences = []  # Initialize an empty list of sentences\n",
    "\n",
    "print \"Parsing sentences from training set\"\n",
    "for sentence in data:\n",
    "    sentences += [wiki_to_wordlist(sentence.decode('utf-8'))]"
   ]
  },
  {
   "cell_type": "code",
   "execution_count": null,
   "metadata": {
    "collapsed": false
   },
   "outputs": [],
   "source": [
    "indices = []\n",
    "for i, sentence in enumerate(sentences):\n",
    "    if not sentence:\n",
    "        pass\n",
    "    else:\n",
    "        indices.append(i)"
   ]
  },
  {
   "cell_type": "code",
   "execution_count": null,
   "metadata": {
    "collapsed": false
   },
   "outputs": [],
   "source": [
    "real_sentences = np.array(sentences)[indices]"
   ]
  },
  {
   "cell_type": "code",
   "execution_count": null,
   "metadata": {
    "collapsed": true
   },
   "outputs": [],
   "source": [
    "model200 = word2vec_as_EMF()"
   ]
  },
  {
   "cell_type": "code",
   "execution_count": null,
   "metadata": {
    "collapsed": false
   },
   "outputs": [],
   "source": [
    "filename = 'enwik-200_matrices.npz'\n",
    "model200.data_to_matrices(data=list(real_sentences), r=200, k=5, to_file=filename)"
   ]
  }
 ],
 "metadata": {
  "kernelspec": {
   "display_name": "Python 2",
   "language": "python",
   "name": "python2"
  },
  "language_info": {
   "codemirror_mode": {
    "name": "ipython",
    "version": 2
   },
   "file_extension": ".py",
   "mimetype": "text/x-python",
   "name": "python",
   "nbconvert_exporter": "python",
   "pygments_lexer": "ipython2",
   "version": "2.7.11"
  }
 },
 "nbformat": 4,
 "nbformat_minor": 0
}
